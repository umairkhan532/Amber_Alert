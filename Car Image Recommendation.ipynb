{
 "cells": [
  {
   "cell_type": "markdown",
   "metadata": {},
   "source": [
    "I want your help with a project I am working on which is a machine learning model that gets the car model, car year, car color from the user and gives out a similar image of the car. The cars we will focussing on is just Toyota Cars."
   ]
  },
  {
   "cell_type": "code",
   "execution_count": 1,
   "metadata": {},
   "outputs": [],
   "source": [
    "import os\n",
    "#import cv2\n",
    "import time\n",
    "import pandas as pd\n",
    "#import matplotlib.pyplot as plt"
   ]
  },
  {
   "cell_type": "code",
   "execution_count": 2,
   "metadata": {},
   "outputs": [],
   "source": [
    "def load_data(path=\"dataset/\"):\n",
    "    data = {}\n",
    "    images = []\n",
    "    names = []\n",
    "\n",
    "    columns = ['Make', 'Model', 'Year', 'MSRP', 'Front Wheel Size (in)', 'SAE Net Horsepower @ RPM',\n",
    "    'Displacement', 'Engine Type', 'Width, Max w/o mirrors (in)', 'Height, Overall (in)',\n",
    "    'Length, Overall (in)', 'Gas Mileage', 'Drivetrain', 'Passenger Capacity', 'Passenger Doors',\n",
    "    'Body Style']\n",
    "\n",
    "    for i in columns:\n",
    "        data[i] = []\n",
    "        \n",
    "    for name in os.listdir(path):\n",
    "        names.append(name)\n",
    "\n",
    "        name = name.split(\".\")[0]\n",
    "\n",
    "        for col, val in zip(columns, name.split(\"_\")):\n",
    "            data[col].append(val)\n",
    "        \n",
    "            \n",
    "    df = pd.DataFrame(data)\n",
    "    df[\"name\"] = names\n",
    "    \n",
    "    return df"
   ]
  },
  {
   "cell_type": "code",
   "execution_count": 3,
   "metadata": {},
   "outputs": [],
   "source": [
    "df = load_data()"
   ]
  },
  {
   "cell_type": "code",
   "execution_count": 11,
   "metadata": {},
   "outputs": [],
   "source": [
    "# df_toyota = df[df.Make == \"Toyota\"]"
   ]
  },
  {
   "cell_type": "code",
   "execution_count": 4,
   "metadata": {},
   "outputs": [],
   "source": [
    "df.to_csv(\"all_cars.csv\", index=False)"
   ]
  }
 ],
 "metadata": {
  "kernelspec": {
   "display_name": "Python 3.9.15 ('carrecg')",
   "language": "python",
   "name": "python3"
  },
  "language_info": {
   "codemirror_mode": {
    "name": "ipython",
    "version": 3
   },
   "file_extension": ".py",
   "mimetype": "text/x-python",
   "name": "python",
   "nbconvert_exporter": "python",
   "pygments_lexer": "ipython3",
   "version": "3.9.15"
  },
  "vscode": {
   "interpreter": {
    "hash": "944235082599078b22e366763b7696fa47ddc54dc25f93880b0811a0944b8c51"
   }
  }
 },
 "nbformat": 4,
 "nbformat_minor": 4
}
