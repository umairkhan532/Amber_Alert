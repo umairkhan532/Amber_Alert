{
 "cells": [
  {
   "cell_type": "markdown",
   "metadata": {},
   "source": [
    "I want your help with a project I am working on which is a machine learning model that gets the car model, car year, car color from the user and gives out a similar image of the car. The cars we will focussing on is just Toyota Cars."
   ]
  },
  {
   "cell_type": "code",
   "execution_count": 8,
   "metadata": {},
   "outputs": [],
   "source": [
    "import os\n",
    "#import cv2\n",
    "import time\n",
    "import pandas as pd\n",
    "#import matplotlib.pyplot as plt"
   ]
  },
  {
   "cell_type": "code",
   "execution_count": 9,
   "metadata": {},
   "outputs": [],
   "source": [
    "def load_data(path=\"dataset/\"):\n",
    "    data = {}\n",
    "    images = []\n",
    "    names = []\n",
    "\n",
    "    columns = ['Make', 'Model', 'Year', 'MSRP', 'Front Wheel Size (in)', 'SAE Net Horsepower @ RPM',\n",
    "    'Displacement', 'Engine Type', 'Width, Max w/o mirrors (in)', 'Height, Overall (in)',\n",
    "    'Length, Overall (in)', 'Gas Mileage', 'Drivetrain', 'Passenger Capacity', 'Passenger Doors',\n",
    "    'Body Style']\n",
    "\n",
    "    for i in columns:\n",
    "        data[i] = []\n",
    "        \n",
    "    for name in os.listdir(path):\n",
    "        names.append(name)\n",
    "\n",
    "        name = name.split(\".\")[0]\n",
    "\n",
    "        for col, val in zip(columns, name.split(\"_\")):\n",
    "            data[col].append(val)\n",
    "        \n",
    "            \n",
    "    df = pd.DataFrame(data)\n",
    "    df[\"name\"] = names\n",
    "    \n",
    "    return df"
   ]
  },
  {
   "cell_type": "code",
   "execution_count": 10,
   "metadata": {},
   "outputs": [],
   "source": [
    "df = load_data()"
   ]
  },
  {
   "cell_type": "code",
   "execution_count": 11,
   "metadata": {},
   "outputs": [],
   "source": [
    "df_toyota = df[df.Make == \"Toyota\"]"
   ]
  },
  {
   "cell_type": "code",
   "execution_count": 12,
   "metadata": {},
   "outputs": [],
   "source": [
    "df_toyota.to_csv(\"toyota_cars.csv\", index=False)"
   ]
  }
 ],
 "metadata": {
  "kernelspec": {
   "display_name": "Python 3.9.13 ('venv': venv)",
   "language": "python",
   "name": "python3"
  },
  "language_info": {
   "codemirror_mode": {
    "name": "ipython",
    "version": 3
   },
   "file_extension": ".py",
   "mimetype": "text/x-python",
   "name": "python",
   "nbconvert_exporter": "python",
   "pygments_lexer": "ipython3",
   "version": "3.9.13"
  },
  "vscode": {
   "interpreter": {
    "hash": "4db6a39e61e0bc946b79f3668a2a5f16f867d887ecdc1a3d81cef18ea6ac3e6e"
   }
  }
 },
 "nbformat": 4,
 "nbformat_minor": 4
}
